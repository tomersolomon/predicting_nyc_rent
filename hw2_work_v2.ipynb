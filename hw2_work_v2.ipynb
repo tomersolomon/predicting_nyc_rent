{
 "cells": [
  {
   "cell_type": "code",
   "execution_count": 453,
   "metadata": {
    "collapsed": true
   },
   "outputs": [],
   "source": [
    "from __future__ import division, absolute_import, print_function\n",
    "\n",
    "import numpy as np\n",
    "import scipy as sp\n",
    "from sklearn.datasets import load_iris\n",
    "from sklearn.model_selection import train_test_split,cross_val_score, GridSearchCV #model_selection only works in python3\n",
    "from sklearn.linear_model import LinearRegression, Lasso, Ridge, LassoCV\n",
    "\n",
    "from sklearn import svm\n",
    "\n",
    "from sklearn.preprocessing import Imputer,OneHotEncoder\n",
    "import pandas as pd\n",
    "\n",
    "from sklearn.pipeline import make_pipeline\n"
   ]
  },
  {
   "cell_type": "code",
   "execution_count": 475,
   "metadata": {
    "collapsed": false
   },
   "outputs": [],
   "source": [
    "url =  'https://ndownloader.figshare.com/files/7586326'\n",
    "\n",
    "raw_data = pd.read_csv(url)\n"
   ]
  },
  {
   "cell_type": "code",
   "execution_count": 479,
   "metadata": {
    "collapsed": false
   },
   "outputs": [
    {
     "data": {
      "text/html": [
       "<div>\n",
       "<table border=\"1\" class=\"dataframe\">\n",
       "  <thead>\n",
       "    <tr style=\"text-align: right;\">\n",
       "      <th></th>\n",
       "      <th>recid</th>\n",
       "      <th>boro</th>\n",
       "      <th>uf1_1</th>\n",
       "      <th>uf1_2</th>\n",
       "      <th>uf1_3</th>\n",
       "      <th>uf1_4</th>\n",
       "      <th>uf1_5</th>\n",
       "      <th>uf1_6</th>\n",
       "      <th>uf1_7</th>\n",
       "      <th>uf1_8</th>\n",
       "      <th>...</th>\n",
       "      <th>hflag4</th>\n",
       "      <th>hflag18</th>\n",
       "      <th>uf52h_h</th>\n",
       "      <th>uf52h_a</th>\n",
       "      <th>uf52h_b</th>\n",
       "      <th>uf52h_c</th>\n",
       "      <th>uf52h_d</th>\n",
       "      <th>uf52h_e</th>\n",
       "      <th>uf52h_f</th>\n",
       "      <th>uf52h_g</th>\n",
       "    </tr>\n",
       "  </thead>\n",
       "  <tbody>\n",
       "    <tr>\n",
       "      <th>0</th>\n",
       "      <td>1</td>\n",
       "      <td>1</td>\n",
       "      <td>9</td>\n",
       "      <td>9</td>\n",
       "      <td>9</td>\n",
       "      <td>9</td>\n",
       "      <td>1</td>\n",
       "      <td>9</td>\n",
       "      <td>9</td>\n",
       "      <td>9</td>\n",
       "      <td>...</td>\n",
       "      <td>0</td>\n",
       "      <td>0</td>\n",
       "      <td>0</td>\n",
       "      <td>0</td>\n",
       "      <td>0</td>\n",
       "      <td>0</td>\n",
       "      <td>0</td>\n",
       "      <td>0</td>\n",
       "      <td>0</td>\n",
       "      <td>0</td>\n",
       "    </tr>\n",
       "    <tr>\n",
       "      <th>1</th>\n",
       "      <td>1</td>\n",
       "      <td>1</td>\n",
       "      <td>9</td>\n",
       "      <td>9</td>\n",
       "      <td>9</td>\n",
       "      <td>9</td>\n",
       "      <td>1</td>\n",
       "      <td>9</td>\n",
       "      <td>9</td>\n",
       "      <td>9</td>\n",
       "      <td>...</td>\n",
       "      <td>0</td>\n",
       "      <td>0</td>\n",
       "      <td>1</td>\n",
       "      <td>1</td>\n",
       "      <td>1</td>\n",
       "      <td>0</td>\n",
       "      <td>0</td>\n",
       "      <td>0</td>\n",
       "      <td>0</td>\n",
       "      <td>0</td>\n",
       "    </tr>\n",
       "    <tr>\n",
       "      <th>2</th>\n",
       "      <td>1</td>\n",
       "      <td>1</td>\n",
       "      <td>9</td>\n",
       "      <td>9</td>\n",
       "      <td>9</td>\n",
       "      <td>9</td>\n",
       "      <td>1</td>\n",
       "      <td>9</td>\n",
       "      <td>9</td>\n",
       "      <td>9</td>\n",
       "      <td>...</td>\n",
       "      <td>0</td>\n",
       "      <td>0</td>\n",
       "      <td>1</td>\n",
       "      <td>1</td>\n",
       "      <td>1</td>\n",
       "      <td>0</td>\n",
       "      <td>1</td>\n",
       "      <td>0</td>\n",
       "      <td>1</td>\n",
       "      <td>0</td>\n",
       "    </tr>\n",
       "    <tr>\n",
       "      <th>3</th>\n",
       "      <td>1</td>\n",
       "      <td>1</td>\n",
       "      <td>9</td>\n",
       "      <td>9</td>\n",
       "      <td>9</td>\n",
       "      <td>9</td>\n",
       "      <td>1</td>\n",
       "      <td>9</td>\n",
       "      <td>9</td>\n",
       "      <td>9</td>\n",
       "      <td>...</td>\n",
       "      <td>0</td>\n",
       "      <td>0</td>\n",
       "      <td>0</td>\n",
       "      <td>0</td>\n",
       "      <td>0</td>\n",
       "      <td>0</td>\n",
       "      <td>0</td>\n",
       "      <td>0</td>\n",
       "      <td>0</td>\n",
       "      <td>0</td>\n",
       "    </tr>\n",
       "    <tr>\n",
       "      <th>4</th>\n",
       "      <td>1</td>\n",
       "      <td>1</td>\n",
       "      <td>9</td>\n",
       "      <td>9</td>\n",
       "      <td>9</td>\n",
       "      <td>9</td>\n",
       "      <td>1</td>\n",
       "      <td>9</td>\n",
       "      <td>9</td>\n",
       "      <td>9</td>\n",
       "      <td>...</td>\n",
       "      <td>0</td>\n",
       "      <td>0</td>\n",
       "      <td>1</td>\n",
       "      <td>0</td>\n",
       "      <td>0</td>\n",
       "      <td>0</td>\n",
       "      <td>1</td>\n",
       "      <td>0</td>\n",
       "      <td>0</td>\n",
       "      <td>0</td>\n",
       "    </tr>\n",
       "  </tbody>\n",
       "</table>\n",
       "<p>5 rows × 197 columns</p>\n",
       "</div>"
      ],
      "text/plain": [
       "   recid  boro  uf1_1  uf1_2  uf1_3  uf1_4  uf1_5  uf1_6  uf1_7  uf1_8  \\\n",
       "0      1     1      9      9      9      9      1      9      9      9   \n",
       "1      1     1      9      9      9      9      1      9      9      9   \n",
       "2      1     1      9      9      9      9      1      9      9      9   \n",
       "3      1     1      9      9      9      9      1      9      9      9   \n",
       "4      1     1      9      9      9      9      1      9      9      9   \n",
       "\n",
       "    ...     hflag4  hflag18  uf52h_h  uf52h_a  uf52h_b  uf52h_c  uf52h_d  \\\n",
       "0   ...          0        0        0        0        0        0        0   \n",
       "1   ...          0        0        1        1        1        0        0   \n",
       "2   ...          0        0        1        1        1        0        1   \n",
       "3   ...          0        0        0        0        0        0        0   \n",
       "4   ...          0        0        1        0        0        0        1   \n",
       "\n",
       "   uf52h_e  uf52h_f  uf52h_g  \n",
       "0        0        0        0  \n",
       "1        0        0        0  \n",
       "2        0        1        0  \n",
       "3        0        0        0  \n",
       "4        0        0        0  \n",
       "\n",
       "[5 rows x 197 columns]"
      ]
     },
     "execution_count": 479,
     "metadata": {},
     "output_type": "execute_result"
    }
   ],
   "source": [
    "raw_data.head()"
   ]
  },
  {
   "cell_type": "code",
   "execution_count": 480,
   "metadata": {
    "collapsed": false
   },
   "outputs": [
    {
     "data": {
      "text/plain": [
       "(10229, 197)"
      ]
     },
     "execution_count": 480,
     "metadata": {},
     "output_type": "execute_result"
    }
   ],
   "source": [
    "#delete 9999 which is missing value (can't train if there is no response variable)\n",
    "raw_data = raw_data[raw_data.uf17 != 99999]\n"
   ]
  },
  {
   "cell_type": "code",
   "execution_count": 180,
   "metadata": {
    "collapsed": false,
    "scrolled": true
   },
   "outputs": [
    {
     "name": "stdout",
     "output_type": "stream",
     "text": [
      "1     1559\n",
      "3     1427\n",
      "2     1387\n",
      "7     1254\n",
      "5     1253\n",
      "6     1220\n",
      "10    1143\n",
      "8     1105\n",
      "4     1022\n",
      "9      868\n",
      "12     562\n",
      "11     539\n",
      "13     504\n",
      "14     493\n",
      "18     320\n",
      "15     277\n",
      "17     238\n",
      "16     171\n",
      "Name: cd, dtype: int64\n"
     ]
    }
   ],
   "source": [
    "#pd.value_counts(data['boro'].values, sort=False)\n",
    "\n",
    "print(raw_data.cd.value_counts())\n"
   ]
  },
  {
   "cell_type": "code",
   "execution_count": 530,
   "metadata": {
    "collapsed": false,
    "scrolled": true
   },
   "outputs": [
    {
     "name": "stderr",
     "output_type": "stream",
     "text": [
      "//anaconda/envs/python3/lib/python3.5/site-packages/pandas/core/frame.py:2378: SettingWithCopyWarning: \n",
      "A value is trying to be set on a copy of a slice from a DataFrame.\n",
      "Try using .loc[row_indexer,col_indexer] = value instead\n",
      "\n",
      "See the caveats in the documentation: http://pandas.pydata.org/pandas-docs/stable/indexing.html#indexing-view-versus-copy\n",
      "  self[k1] = value[k2]\n",
      "//anaconda/envs/python3/lib/python3.5/site-packages/ipykernel/__main__.py:68: SettingWithCopyWarning: \n",
      "A value is trying to be set on a copy of a slice from a DataFrame.\n",
      "Try using .loc[row_indexer,col_indexer] = value instead\n",
      "\n",
      "See the caveats in the documentation: http://pandas.pydata.org/pandas-docs/stable/indexing.html#indexing-view-versus-copy\n"
     ]
    }
   ],
   "source": [
    "##FEATURE SELECTION\n",
    "\n",
    "# Categorical\n",
    "\n",
    "cat_features = ['boro','cd']\n",
    "\n",
    "\n",
    "# 8 is nan\n",
    "cat_featured_added = ['uf1_1','uf1_2','uf1_3','uf1_4','uf1_5','uf1_6','uf1_7','uf1_8','uf1_9','uf1_10']\n",
    "cat_featured_test_10 = ['uf1_11','uf1_12','uf1_13','uf1_14','uf1_15','uf1_16','uf1_35','uf1_17','uf1_18']\n",
    "cat_featured_test_11 =['uf1_19','uf1_20','uf1_21','uf1_22','sc23','sc24','sc36','sc37','sc38']\n",
    "cat_featured_test_12 = ['sc147','sc171','sc154','sc157','sc197','sc198','sc188','sc190','sc191','sc192','sc193','sc194'] \n",
    "\n",
    "#cat_simple = ['uf1_1','uf1_7','uf1_7','uf1_17']\n",
    "#cat_simple1 = ['sc23','sc24','sc36','sc37','sc38']\n",
    "\n",
    "#4 is nan\n",
    "cat_featured_added_1 = ['sc114']\n",
    "\n",
    "#no nan values\n",
    "cat_featured_added_2 = ['sc149','sc152','sc153','sc155','sc156','sc158']\n",
    "\n",
    "total_cat = cat_features + cat_featured_added_1 + cat_featured_added + cat_featured_test_10 + cat_featured_test_11 + cat_featured_test_12 \n",
    "\n",
    "#total_cat_simple = cat_simple + cat_simple1 + cat_featured_test_12 + cat_featured_added_1 + cat_featured_added_2\n",
    "\n",
    "#Continous\n",
    "\n",
    "cont_features = ['sc150','sc151']\n",
    "\n",
    "#98,99 nan, 13k of those\n",
    "#monthly fees, real estate taxes (13.7K nan), stories in building\n",
    "cont_added = ['uf11','uf23']\n",
    "\n",
    "#9999 is nan (mostly monthly fees)\n",
    "#sc186 9 is no breakdowns, change to 0\n",
    "cont_added_1 = ['uf12','uf13','uf14','uf15','sc186']\n",
    "\n",
    "# 8 is not reported\n",
    "cont_added_2 = ['sc189','sc196','sc199']\n",
    "\n",
    "\n",
    "total_cont = cont_features + cont_added + cont_added_1 + cont_added_2 \n",
    "\n",
    "\n",
    "## REPLACE INTEGERS WITH NaN's\n",
    "\n",
    "X = raw_data[total_cat + total_cont]\n",
    "\n",
    "#cont\n",
    "X[cont_added] = X[cont_added].replace([99,98],np.nan)\n",
    "X[cont_added_1] = X[cont_added_1].replace([9999,99999],np.nan)\n",
    "X[cont_added_2 ] = X[cont_added_2 ].replace(8,np.nan)\n",
    "\n",
    "\n",
    "#cat\n",
    "X[cat_featured_added] = X[cat_featured_added].replace(8,np.nan)\n",
    "X[cat_featured_test_10] = X[cat_featured_test_10].replace(8,np.nan)\n",
    "X[cat_featured_test_11] = X[cat_featured_test_11].replace(8,np.nan)\n",
    "X[cat_featured_test_12] = X[cat_featured_test_12].replace(8,np.nan)\n",
    "X[cat_featured_added_1] = X[cat_featured_added_1].replace(8,np.nan)\n",
    "\n",
    "\n",
    "## ONE HOT ENCODING (imputation needs to happen before this)\n",
    "\n",
    "#turn categorical data into dummies\n",
    "for i in total_cat:\n",
    "    X[i] = X[i].astype('category')\n",
    "  \n",
    "X_dummies = pd.get_dummies(X) \n",
    "\n",
    "\n"
   ]
  },
  {
   "cell_type": "code",
   "execution_count": 528,
   "metadata": {
    "collapsed": false
   },
   "outputs": [
    {
     "data": {
      "text/plain": [
       "(10229,)"
      ]
     },
     "execution_count": 528,
     "metadata": {},
     "output_type": "execute_result"
    }
   ],
   "source": []
  },
  {
   "cell_type": "code",
   "execution_count": 540,
   "metadata": {
    "collapsed": false
   },
   "outputs": [
    {
     "name": "stderr",
     "output_type": "stream",
     "text": [
      "//anaconda/envs/python3/lib/python3.5/site-packages/sklearn/linear_model/coordinate_descent.py:484: ConvergenceWarning: Objective did not converge. You might want to increase the number of iterations. Fitting data with very small alpha may cause precision problems.\n",
      "  ConvergenceWarning)\n",
      "//anaconda/envs/python3/lib/python3.5/site-packages/sklearn/linear_model/coordinate_descent.py:484: ConvergenceWarning: Objective did not converge. You might want to increase the number of iterations. Fitting data with very small alpha may cause precision problems.\n",
      "  ConvergenceWarning)\n",
      "//anaconda/envs/python3/lib/python3.5/site-packages/sklearn/linear_model/coordinate_descent.py:484: ConvergenceWarning: Objective did not converge. You might want to increase the number of iterations. Fitting data with very small alpha may cause precision problems.\n",
      "  ConvergenceWarning)\n",
      "//anaconda/envs/python3/lib/python3.5/site-packages/sklearn/linear_model/coordinate_descent.py:484: ConvergenceWarning: Objective did not converge. You might want to increase the number of iterations. Fitting data with very small alpha may cause precision problems.\n",
      "  ConvergenceWarning)\n"
     ]
    },
    {
     "name": "stdout",
     "output_type": "stream",
     "text": [
      "[ 0.29951802  0.27004197  0.3245265   0.33870668  0.30938721]\n"
     ]
    },
    {
     "name": "stderr",
     "output_type": "stream",
     "text": [
      "//anaconda/envs/python3/lib/python3.5/site-packages/sklearn/linear_model/coordinate_descent.py:484: ConvergenceWarning: Objective did not converge. You might want to increase the number of iterations. Fitting data with very small alpha may cause precision problems.\n",
      "  ConvergenceWarning)\n"
     ]
    }
   ],
   "source": [
    "# #TRAIN TEST SPLIT\n",
    "\n",
    "y=raw_data['uf17']\n",
    "\n",
    "X_train,X_test,y_train,y_test = train_test_split(X,y,random_state=1)\n",
    "\n",
    "X_train = pd.get_dummies(X_train) \n",
    "X_test = pd.get_dummies(X_test) \n",
    "\n",
    "#IMPUTATION (REPLACING NAN'S)\n",
    "\n",
    "# imp = Imputer(missing_values='NaN',strategy='most_frequent',axis=0)\n",
    "# imp.fit(X_train)\n",
    "\n",
    "# # #LASSO MODEL\n",
    "\n",
    "# lasso = Lasso(alpha=0.001).fit(X_train,y_train)\n",
    "# print(lasso.score(X_train,y_train))\n",
    "# print (lasso.score(X_test,y_test))\n",
    "# print(np.sum(lasso.coef_ != 0))\n",
    "\n",
    "#print (X_dummies.head())\n",
    "\n",
    "#scores = cross_val_score(lasso,X_dummies,y,cv=5)\n",
    "#print(scores)\n",
    "\n",
    "#pipeline\n",
    "\n",
    "pipe = make_pipeline(Imputer(missing_values='NaN',strategy='most_frequent'),Lasso(alpha=.001))\n",
    "scores = cross_val_score(pipe,X_train,y_train,cv=5)\n",
    "print(scores)\n",
    "\n",
    "\n",
    "# #gridsearchCV\n",
    "\n",
    "# # param_grid = {'Lasso__alpha' : [0.001,0.01,.1,1,10,100]}\n",
    "# # grid = GridSearchCV(pipe,param_grid=param_grid,cv=5)\n",
    "# # grid.fit(X_train,y_train)\n",
    "\n",
    "\n"
   ]
  },
  {
   "cell_type": "code",
   "execution_count": 536,
   "metadata": {
    "collapsed": false
   },
   "outputs": [
    {
     "ename": "KeyError",
     "evalue": "'uf17'",
     "output_type": "error",
     "traceback": [
      "\u001b[0;31m---------------------------------------------------------------------------\u001b[0m",
      "\u001b[0;31mKeyError\u001b[0m                                  Traceback (most recent call last)",
      "\u001b[0;32m//anaconda/envs/python3/lib/python3.5/site-packages/pandas/indexes/base.py\u001b[0m in \u001b[0;36mget_loc\u001b[0;34m(self, key, method, tolerance)\u001b[0m\n\u001b[1;32m   1944\u001b[0m             \u001b[0;32mtry\u001b[0m\u001b[0;34m:\u001b[0m\u001b[0;34m\u001b[0m\u001b[0m\n\u001b[0;32m-> 1945\u001b[0;31m                 \u001b[0;32mreturn\u001b[0m \u001b[0mself\u001b[0m\u001b[0;34m.\u001b[0m\u001b[0m_engine\u001b[0m\u001b[0;34m.\u001b[0m\u001b[0mget_loc\u001b[0m\u001b[0;34m(\u001b[0m\u001b[0mkey\u001b[0m\u001b[0;34m)\u001b[0m\u001b[0;34m\u001b[0m\u001b[0m\n\u001b[0m\u001b[1;32m   1946\u001b[0m             \u001b[0;32mexcept\u001b[0m \u001b[0mKeyError\u001b[0m\u001b[0;34m:\u001b[0m\u001b[0;34m\u001b[0m\u001b[0m\n",
      "\u001b[0;32mpandas/index.pyx\u001b[0m in \u001b[0;36mpandas.index.IndexEngine.get_loc (pandas/index.c:4154)\u001b[0;34m()\u001b[0m\n",
      "\u001b[0;32mpandas/index.pyx\u001b[0m in \u001b[0;36mpandas.index.IndexEngine.get_loc (pandas/index.c:4018)\u001b[0;34m()\u001b[0m\n",
      "\u001b[0;32mpandas/hashtable.pyx\u001b[0m in \u001b[0;36mpandas.hashtable.PyObjectHashTable.get_item (pandas/hashtable.c:12368)\u001b[0;34m()\u001b[0m\n",
      "\u001b[0;32mpandas/hashtable.pyx\u001b[0m in \u001b[0;36mpandas.hashtable.PyObjectHashTable.get_item (pandas/hashtable.c:12322)\u001b[0;34m()\u001b[0m\n",
      "\u001b[0;31mKeyError\u001b[0m: 'uf17'",
      "\nDuring handling of the above exception, another exception occurred:\n",
      "\u001b[0;31mKeyError\u001b[0m                                  Traceback (most recent call last)",
      "\u001b[0;32m<ipython-input-536-f5a790eda786>\u001b[0m in \u001b[0;36m<module>\u001b[0;34m()\u001b[0m\n\u001b[1;32m      4\u001b[0m \u001b[0;31m#print(imp.fit_transform(X_train))\u001b[0m\u001b[0;34m\u001b[0m\u001b[0;34m\u001b[0m\u001b[0m\n\u001b[1;32m      5\u001b[0m \u001b[0;34m\u001b[0m\u001b[0m\n\u001b[0;32m----> 6\u001b[0;31m \u001b[0mX_train\u001b[0m\u001b[0;34m[\u001b[0m\u001b[0;34m'uf17'\u001b[0m\u001b[0;34m]\u001b[0m\u001b[0;34m\u001b[0m\u001b[0m\n\u001b[0m\u001b[1;32m      7\u001b[0m \u001b[0;34m\u001b[0m\u001b[0m\n\u001b[1;32m      8\u001b[0m \u001b[0;34m\u001b[0m\u001b[0m\n",
      "\u001b[0;32m//anaconda/envs/python3/lib/python3.5/site-packages/pandas/core/frame.py\u001b[0m in \u001b[0;36m__getitem__\u001b[0;34m(self, key)\u001b[0m\n\u001b[1;32m   1995\u001b[0m             \u001b[0;32mreturn\u001b[0m \u001b[0mself\u001b[0m\u001b[0;34m.\u001b[0m\u001b[0m_getitem_multilevel\u001b[0m\u001b[0;34m(\u001b[0m\u001b[0mkey\u001b[0m\u001b[0;34m)\u001b[0m\u001b[0;34m\u001b[0m\u001b[0m\n\u001b[1;32m   1996\u001b[0m         \u001b[0;32melse\u001b[0m\u001b[0;34m:\u001b[0m\u001b[0;34m\u001b[0m\u001b[0m\n\u001b[0;32m-> 1997\u001b[0;31m             \u001b[0;32mreturn\u001b[0m \u001b[0mself\u001b[0m\u001b[0;34m.\u001b[0m\u001b[0m_getitem_column\u001b[0m\u001b[0;34m(\u001b[0m\u001b[0mkey\u001b[0m\u001b[0;34m)\u001b[0m\u001b[0;34m\u001b[0m\u001b[0m\n\u001b[0m\u001b[1;32m   1998\u001b[0m \u001b[0;34m\u001b[0m\u001b[0m\n\u001b[1;32m   1999\u001b[0m     \u001b[0;32mdef\u001b[0m \u001b[0m_getitem_column\u001b[0m\u001b[0;34m(\u001b[0m\u001b[0mself\u001b[0m\u001b[0;34m,\u001b[0m \u001b[0mkey\u001b[0m\u001b[0;34m)\u001b[0m\u001b[0;34m:\u001b[0m\u001b[0;34m\u001b[0m\u001b[0m\n",
      "\u001b[0;32m//anaconda/envs/python3/lib/python3.5/site-packages/pandas/core/frame.py\u001b[0m in \u001b[0;36m_getitem_column\u001b[0;34m(self, key)\u001b[0m\n\u001b[1;32m   2002\u001b[0m         \u001b[0;31m# get column\u001b[0m\u001b[0;34m\u001b[0m\u001b[0;34m\u001b[0m\u001b[0m\n\u001b[1;32m   2003\u001b[0m         \u001b[0;32mif\u001b[0m \u001b[0mself\u001b[0m\u001b[0;34m.\u001b[0m\u001b[0mcolumns\u001b[0m\u001b[0;34m.\u001b[0m\u001b[0mis_unique\u001b[0m\u001b[0;34m:\u001b[0m\u001b[0;34m\u001b[0m\u001b[0m\n\u001b[0;32m-> 2004\u001b[0;31m             \u001b[0;32mreturn\u001b[0m \u001b[0mself\u001b[0m\u001b[0;34m.\u001b[0m\u001b[0m_get_item_cache\u001b[0m\u001b[0;34m(\u001b[0m\u001b[0mkey\u001b[0m\u001b[0;34m)\u001b[0m\u001b[0;34m\u001b[0m\u001b[0m\n\u001b[0m\u001b[1;32m   2005\u001b[0m \u001b[0;34m\u001b[0m\u001b[0m\n\u001b[1;32m   2006\u001b[0m         \u001b[0;31m# duplicate columns & possible reduce dimensionality\u001b[0m\u001b[0;34m\u001b[0m\u001b[0;34m\u001b[0m\u001b[0m\n",
      "\u001b[0;32m//anaconda/envs/python3/lib/python3.5/site-packages/pandas/core/generic.py\u001b[0m in \u001b[0;36m_get_item_cache\u001b[0;34m(self, item)\u001b[0m\n\u001b[1;32m   1348\u001b[0m         \u001b[0mres\u001b[0m \u001b[0;34m=\u001b[0m \u001b[0mcache\u001b[0m\u001b[0;34m.\u001b[0m\u001b[0mget\u001b[0m\u001b[0;34m(\u001b[0m\u001b[0mitem\u001b[0m\u001b[0;34m)\u001b[0m\u001b[0;34m\u001b[0m\u001b[0m\n\u001b[1;32m   1349\u001b[0m         \u001b[0;32mif\u001b[0m \u001b[0mres\u001b[0m \u001b[0;32mis\u001b[0m \u001b[0;32mNone\u001b[0m\u001b[0;34m:\u001b[0m\u001b[0;34m\u001b[0m\u001b[0m\n\u001b[0;32m-> 1350\u001b[0;31m             \u001b[0mvalues\u001b[0m \u001b[0;34m=\u001b[0m \u001b[0mself\u001b[0m\u001b[0;34m.\u001b[0m\u001b[0m_data\u001b[0m\u001b[0;34m.\u001b[0m\u001b[0mget\u001b[0m\u001b[0;34m(\u001b[0m\u001b[0mitem\u001b[0m\u001b[0;34m)\u001b[0m\u001b[0;34m\u001b[0m\u001b[0m\n\u001b[0m\u001b[1;32m   1351\u001b[0m             \u001b[0mres\u001b[0m \u001b[0;34m=\u001b[0m \u001b[0mself\u001b[0m\u001b[0;34m.\u001b[0m\u001b[0m_box_item_values\u001b[0m\u001b[0;34m(\u001b[0m\u001b[0mitem\u001b[0m\u001b[0;34m,\u001b[0m \u001b[0mvalues\u001b[0m\u001b[0;34m)\u001b[0m\u001b[0;34m\u001b[0m\u001b[0m\n\u001b[1;32m   1352\u001b[0m             \u001b[0mcache\u001b[0m\u001b[0;34m[\u001b[0m\u001b[0mitem\u001b[0m\u001b[0;34m]\u001b[0m \u001b[0;34m=\u001b[0m \u001b[0mres\u001b[0m\u001b[0;34m\u001b[0m\u001b[0m\n",
      "\u001b[0;32m//anaconda/envs/python3/lib/python3.5/site-packages/pandas/core/internals.py\u001b[0m in \u001b[0;36mget\u001b[0;34m(self, item, fastpath)\u001b[0m\n\u001b[1;32m   3288\u001b[0m \u001b[0;34m\u001b[0m\u001b[0m\n\u001b[1;32m   3289\u001b[0m             \u001b[0;32mif\u001b[0m \u001b[0;32mnot\u001b[0m \u001b[0misnull\u001b[0m\u001b[0;34m(\u001b[0m\u001b[0mitem\u001b[0m\u001b[0;34m)\u001b[0m\u001b[0;34m:\u001b[0m\u001b[0;34m\u001b[0m\u001b[0m\n\u001b[0;32m-> 3290\u001b[0;31m                 \u001b[0mloc\u001b[0m \u001b[0;34m=\u001b[0m \u001b[0mself\u001b[0m\u001b[0;34m.\u001b[0m\u001b[0mitems\u001b[0m\u001b[0;34m.\u001b[0m\u001b[0mget_loc\u001b[0m\u001b[0;34m(\u001b[0m\u001b[0mitem\u001b[0m\u001b[0;34m)\u001b[0m\u001b[0;34m\u001b[0m\u001b[0m\n\u001b[0m\u001b[1;32m   3291\u001b[0m             \u001b[0;32melse\u001b[0m\u001b[0;34m:\u001b[0m\u001b[0;34m\u001b[0m\u001b[0m\n\u001b[1;32m   3292\u001b[0m                 \u001b[0mindexer\u001b[0m \u001b[0;34m=\u001b[0m \u001b[0mnp\u001b[0m\u001b[0;34m.\u001b[0m\u001b[0marange\u001b[0m\u001b[0;34m(\u001b[0m\u001b[0mlen\u001b[0m\u001b[0;34m(\u001b[0m\u001b[0mself\u001b[0m\u001b[0;34m.\u001b[0m\u001b[0mitems\u001b[0m\u001b[0;34m)\u001b[0m\u001b[0;34m)\u001b[0m\u001b[0;34m[\u001b[0m\u001b[0misnull\u001b[0m\u001b[0;34m(\u001b[0m\u001b[0mself\u001b[0m\u001b[0;34m.\u001b[0m\u001b[0mitems\u001b[0m\u001b[0;34m)\u001b[0m\u001b[0;34m]\u001b[0m\u001b[0;34m\u001b[0m\u001b[0m\n",
      "\u001b[0;32m//anaconda/envs/python3/lib/python3.5/site-packages/pandas/indexes/base.py\u001b[0m in \u001b[0;36mget_loc\u001b[0;34m(self, key, method, tolerance)\u001b[0m\n\u001b[1;32m   1945\u001b[0m                 \u001b[0;32mreturn\u001b[0m \u001b[0mself\u001b[0m\u001b[0;34m.\u001b[0m\u001b[0m_engine\u001b[0m\u001b[0;34m.\u001b[0m\u001b[0mget_loc\u001b[0m\u001b[0;34m(\u001b[0m\u001b[0mkey\u001b[0m\u001b[0;34m)\u001b[0m\u001b[0;34m\u001b[0m\u001b[0m\n\u001b[1;32m   1946\u001b[0m             \u001b[0;32mexcept\u001b[0m \u001b[0mKeyError\u001b[0m\u001b[0;34m:\u001b[0m\u001b[0;34m\u001b[0m\u001b[0m\n\u001b[0;32m-> 1947\u001b[0;31m                 \u001b[0;32mreturn\u001b[0m \u001b[0mself\u001b[0m\u001b[0;34m.\u001b[0m\u001b[0m_engine\u001b[0m\u001b[0;34m.\u001b[0m\u001b[0mget_loc\u001b[0m\u001b[0;34m(\u001b[0m\u001b[0mself\u001b[0m\u001b[0;34m.\u001b[0m\u001b[0m_maybe_cast_indexer\u001b[0m\u001b[0;34m(\u001b[0m\u001b[0mkey\u001b[0m\u001b[0;34m)\u001b[0m\u001b[0;34m)\u001b[0m\u001b[0;34m\u001b[0m\u001b[0m\n\u001b[0m\u001b[1;32m   1948\u001b[0m \u001b[0;34m\u001b[0m\u001b[0m\n\u001b[1;32m   1949\u001b[0m         \u001b[0mindexer\u001b[0m \u001b[0;34m=\u001b[0m \u001b[0mself\u001b[0m\u001b[0;34m.\u001b[0m\u001b[0mget_indexer\u001b[0m\u001b[0;34m(\u001b[0m\u001b[0;34m[\u001b[0m\u001b[0mkey\u001b[0m\u001b[0;34m]\u001b[0m\u001b[0;34m,\u001b[0m \u001b[0mmethod\u001b[0m\u001b[0;34m=\u001b[0m\u001b[0mmethod\u001b[0m\u001b[0;34m,\u001b[0m \u001b[0mtolerance\u001b[0m\u001b[0;34m=\u001b[0m\u001b[0mtolerance\u001b[0m\u001b[0;34m)\u001b[0m\u001b[0;34m\u001b[0m\u001b[0m\n",
      "\u001b[0;32mpandas/index.pyx\u001b[0m in \u001b[0;36mpandas.index.IndexEngine.get_loc (pandas/index.c:4154)\u001b[0;34m()\u001b[0m\n",
      "\u001b[0;32mpandas/index.pyx\u001b[0m in \u001b[0;36mpandas.index.IndexEngine.get_loc (pandas/index.c:4018)\u001b[0;34m()\u001b[0m\n",
      "\u001b[0;32mpandas/hashtable.pyx\u001b[0m in \u001b[0;36mpandas.hashtable.PyObjectHashTable.get_item (pandas/hashtable.c:12368)\u001b[0;34m()\u001b[0m\n",
      "\u001b[0;32mpandas/hashtable.pyx\u001b[0m in \u001b[0;36mpandas.hashtable.PyObjectHashTable.get_item (pandas/hashtable.c:12322)\u001b[0;34m()\u001b[0m\n",
      "\u001b[0;31mKeyError\u001b[0m: 'uf17'"
     ]
    }
   ],
   "source": [
    "X_train,X_test,y_train,y_test = train_test_split(X,y,random_state=1)\n",
    "imp = Imputer(missing_values='NaN',strategy='most_frequent',axis=0)\n",
    "\n",
    "#print(imp.fit_transform(X_train))\n",
    "\n",
    "X_train['uf17']\n",
    "\n",
    "\n",
    "\n"
   ]
  },
  {
   "cell_type": "code",
   "execution_count": 457,
   "metadata": {
    "collapsed": false
   },
   "outputs": [
    {
     "ename": "TypeError",
     "evalue": "get_params() missing 1 required positional argument: 'self'",
     "output_type": "error",
     "traceback": [
      "\u001b[0;31m---------------------------------------------------------------------------\u001b[0m",
      "\u001b[0;31mTypeError\u001b[0m                                 Traceback (most recent call last)",
      "\u001b[0;32m<ipython-input-457-325bc6fa8a5e>\u001b[0m in \u001b[0;36m<module>\u001b[0;34m()\u001b[0m\n\u001b[1;32m      1\u001b[0m \u001b[0;31m#[ 0.749631    0.76724338  0.76756874  0.7707777   0.7449333 ]\u001b[0m\u001b[0;34m\u001b[0m\u001b[0;34m\u001b[0m\u001b[0m\n\u001b[0;32m----> 2\u001b[0;31m \u001b[0mLassoCV\u001b[0m\u001b[0;34m.\u001b[0m\u001b[0mget_params\u001b[0m\u001b[0;34m(\u001b[0m\u001b[0;34m)\u001b[0m\u001b[0;34m.\u001b[0m\u001b[0mkeys\u001b[0m\u001b[0;34m(\u001b[0m\u001b[0;34m)\u001b[0m\u001b[0;34m\u001b[0m\u001b[0m\n\u001b[0m\u001b[1;32m      3\u001b[0m \u001b[0;34m\u001b[0m\u001b[0m\n",
      "\u001b[0;31mTypeError\u001b[0m: get_params() missing 1 required positional argument: 'self'"
     ]
    }
   ],
   "source": [
    "#[ 0.749631    0.76724338  0.76756874  0.7707777   0.7449333 ]\n",
    "\n",
    "[ 0.74374985  0.76316138  0.76522073  0.76944962  0.74040628]\n",
    "LassoCV.get_params().keys()\n",
    "\n"
   ]
  },
  {
   "cell_type": "code",
   "execution_count": 368,
   "metadata": {
    "collapsed": false
   },
   "outputs": [
    {
     "name": "stderr",
     "output_type": "stream",
     "text": [
      "//anaconda/envs/python3/lib/python3.5/site-packages/ipykernel/__main__.py:7: SettingWithCopyWarning: \n",
      "A value is trying to be set on a copy of a slice from a DataFrame.\n",
      "Try using .loc[row_indexer,col_indexer] = value instead\n",
      "\n",
      "See the caveats in the documentation: http://pandas.pydata.org/pandas-docs/stable/indexing.html#indexing-view-versus-copy\n"
     ]
    },
    {
     "data": {
      "text/plain": [
       "uf1_19    category\n",
       "uf1_20    category\n",
       "uf1_21    category\n",
       "uf1_22    category\n",
       "sc23      category\n",
       "sc24      category\n",
       "sc36      category\n",
       "sc37      category\n",
       "sc38      category\n",
       "dtype: object"
      ]
     },
     "execution_count": 368,
     "metadata": {},
     "output_type": "execute_result"
    }
   ],
   "source": [
    "X = raw_data[['uf1_19','uf1_20','uf1_21','uf1_22','sc23','sc24','sc36','sc37','sc38']]\n",
    "\n",
    "#X.dtypes\n",
    "\n",
    "for i in ['uf1_19','uf1_20','uf1_21','uf1_22','sc23','sc24','sc36','sc37','sc38']:\n",
    "    #print(i,np.shape(X[i]))\n",
    "    X[i] = X[i].astype('category')\n",
    "    \n",
    "X.dtypes"
   ]
  },
  {
   "cell_type": "code",
   "execution_count": 394,
   "metadata": {
    "collapsed": false
   },
   "outputs": [
    {
     "data": {
      "text/plain": [
       "9    10049\n",
       "1      104\n",
       "8       76\n",
       "Name: uf1_7, dtype: int64"
      ]
     },
     "execution_count": 394,
     "metadata": {},
     "output_type": "execute_result"
    }
   ],
   "source": [
    "#X[cont_added]\n",
    "#X[cont_added].replace([99,98],np.nan)\n",
    "data.uf1_1.value_counts()"
   ]
  },
  {
   "cell_type": "code",
   "execution_count": 203,
   "metadata": {
    "collapsed": false
   },
   "outputs": [
    {
     "name": "stdout",
     "output_type": "stream",
     "text": [
      "0.237198026496\n",
      "0.22222707103\n",
      "26\n"
     ]
    },
    {
     "name": "stderr",
     "output_type": "stream",
     "text": [
      "//anaconda/envs/python3/lib/python3.5/site-packages/sklearn/linear_model/coordinate_descent.py:484: ConvergenceWarning: Objective did not converge. You might want to increase the number of iterations. Fitting data with very small alpha may cause precision problems.\n",
      "  ConvergenceWarning)\n"
     ]
    }
   ],
   "source": [
    "#simple linear model\n",
    "\n",
    "# lr = LinearRegression().fit(X_train,y_train)\n",
    "\n",
    "# #print (lr.coef_)\n",
    "# #print (lr.intercept_)\n",
    "\n",
    "# print(lr.score(X_train,y_train))\n",
    "# print(lr.score(X_test,y_test))\n",
    "\n",
    "\n",
    "#lasso regression\n",
    "\n",
    "lasso = Lasso(alpha=.01).fit(X_train,y_train)\n",
    "\n",
    "#print (lr.coef_)\n",
    "#print (lr.intercept_)\n",
    "\n",
    "print(lasso.score(X_train,y_train))\n",
    "print(lasso.score(X_test,y_test))\n",
    "print(np.sum(lasso.coef_ != 0))\n",
    "\n",
    "mean  "
   ]
  },
  {
   "cell_type": "code",
   "execution_count": 207,
   "metadata": {
    "collapsed": false
   },
   "outputs": [
    {
     "name": "stdout",
     "output_type": "stream",
     "text": [
      "8     3262\n",
      "7     3064\n",
      "5     2180\n",
      "6     2033\n",
      "9     2017\n",
      "1      990\n",
      "10     595\n",
      "3      544\n",
      "4      345\n",
      "2      312\n",
      "Name: uf23, dtype: int64\n"
     ]
    }
   ],
   "source": [
    "\n",
    "print(raw_data.uf23.value_counts())\n"
   ]
  },
  {
   "cell_type": "code",
   "execution_count": 216,
   "metadata": {
    "collapsed": false
   },
   "outputs": [
    {
     "ename": "AttributeError",
     "evalue": "'DataFrame' object has no attribute 'uf51_'",
     "output_type": "error",
     "traceback": [
      "\u001b[0;31m---------------------------------------------------------------------------\u001b[0m",
      "\u001b[0;31mAttributeError\u001b[0m                            Traceback (most recent call last)",
      "\u001b[0;32m<ipython-input-216-08366f877b7f>\u001b[0m in \u001b[0;36m<module>\u001b[0;34m()\u001b[0m\n\u001b[0;32m----> 1\u001b[0;31m \u001b[0mprint\u001b[0m\u001b[0;34m(\u001b[0m\u001b[0mraw_data\u001b[0m\u001b[0;34m.\u001b[0m\u001b[0muf51_\u001b[0m\u001b[0;34m.\u001b[0m\u001b[0mvalue_counts\u001b[0m\u001b[0;34m(\u001b[0m\u001b[0;34m)\u001b[0m\u001b[0;34m)\u001b[0m\u001b[0;34m\u001b[0m\u001b[0m\n\u001b[0m",
      "\u001b[0;32m//anaconda/envs/python3/lib/python3.5/site-packages/pandas/core/generic.py\u001b[0m in \u001b[0;36m__getattr__\u001b[0;34m(self, name)\u001b[0m\n\u001b[1;32m   2670\u001b[0m             \u001b[0;32mif\u001b[0m \u001b[0mname\u001b[0m \u001b[0;32min\u001b[0m \u001b[0mself\u001b[0m\u001b[0;34m.\u001b[0m\u001b[0m_info_axis\u001b[0m\u001b[0;34m:\u001b[0m\u001b[0;34m\u001b[0m\u001b[0m\n\u001b[1;32m   2671\u001b[0m                 \u001b[0;32mreturn\u001b[0m \u001b[0mself\u001b[0m\u001b[0;34m[\u001b[0m\u001b[0mname\u001b[0m\u001b[0;34m]\u001b[0m\u001b[0;34m\u001b[0m\u001b[0m\n\u001b[0;32m-> 2672\u001b[0;31m             \u001b[0;32mreturn\u001b[0m \u001b[0mobject\u001b[0m\u001b[0;34m.\u001b[0m\u001b[0m__getattribute__\u001b[0m\u001b[0;34m(\u001b[0m\u001b[0mself\u001b[0m\u001b[0;34m,\u001b[0m \u001b[0mname\u001b[0m\u001b[0;34m)\u001b[0m\u001b[0;34m\u001b[0m\u001b[0m\n\u001b[0m\u001b[1;32m   2673\u001b[0m \u001b[0;34m\u001b[0m\u001b[0m\n\u001b[1;32m   2674\u001b[0m     \u001b[0;32mdef\u001b[0m \u001b[0m__setattr__\u001b[0m\u001b[0;34m(\u001b[0m\u001b[0mself\u001b[0m\u001b[0;34m,\u001b[0m \u001b[0mname\u001b[0m\u001b[0;34m,\u001b[0m \u001b[0mvalue\u001b[0m\u001b[0;34m)\u001b[0m\u001b[0;34m:\u001b[0m\u001b[0;34m\u001b[0m\u001b[0m\n",
      "\u001b[0;31mAttributeError\u001b[0m: 'DataFrame' object has no attribute 'uf51_'"
     ]
    }
   ],
   "source": [
    "print(raw_data.uf51_.value_counts())\n"
   ]
  },
  {
   "cell_type": "code",
   "execution_count": 211,
   "metadata": {
    "collapsed": false
   },
   "outputs": [
    {
     "data": {
      "text/html": [
       "<div>\n",
       "<table border=\"1\" class=\"dataframe\">\n",
       "  <thead>\n",
       "    <tr style=\"text-align: right;\">\n",
       "      <th></th>\n",
       "      <th>recid</th>\n",
       "      <th>boro</th>\n",
       "      <th>uf1_1</th>\n",
       "      <th>uf1_2</th>\n",
       "      <th>uf1_3</th>\n",
       "      <th>uf1_4</th>\n",
       "      <th>uf1_5</th>\n",
       "      <th>uf1_6</th>\n",
       "      <th>uf1_7</th>\n",
       "      <th>uf1_8</th>\n",
       "      <th>...</th>\n",
       "      <th>hflag4</th>\n",
       "      <th>hflag18</th>\n",
       "      <th>uf52h_h</th>\n",
       "      <th>uf52h_a</th>\n",
       "      <th>uf52h_b</th>\n",
       "      <th>uf52h_c</th>\n",
       "      <th>uf52h_d</th>\n",
       "      <th>uf52h_e</th>\n",
       "      <th>uf52h_f</th>\n",
       "      <th>uf52h_g</th>\n",
       "    </tr>\n",
       "  </thead>\n",
       "  <tbody>\n",
       "    <tr>\n",
       "      <th>0</th>\n",
       "      <td>1</td>\n",
       "      <td>1</td>\n",
       "      <td>9</td>\n",
       "      <td>9</td>\n",
       "      <td>9</td>\n",
       "      <td>9</td>\n",
       "      <td>1</td>\n",
       "      <td>9</td>\n",
       "      <td>9</td>\n",
       "      <td>9</td>\n",
       "      <td>...</td>\n",
       "      <td>0</td>\n",
       "      <td>0</td>\n",
       "      <td>0</td>\n",
       "      <td>0</td>\n",
       "      <td>0</td>\n",
       "      <td>0</td>\n",
       "      <td>0</td>\n",
       "      <td>0</td>\n",
       "      <td>0</td>\n",
       "      <td>0</td>\n",
       "    </tr>\n",
       "    <tr>\n",
       "      <th>1</th>\n",
       "      <td>1</td>\n",
       "      <td>1</td>\n",
       "      <td>9</td>\n",
       "      <td>9</td>\n",
       "      <td>9</td>\n",
       "      <td>9</td>\n",
       "      <td>1</td>\n",
       "      <td>9</td>\n",
       "      <td>9</td>\n",
       "      <td>9</td>\n",
       "      <td>...</td>\n",
       "      <td>0</td>\n",
       "      <td>0</td>\n",
       "      <td>1</td>\n",
       "      <td>1</td>\n",
       "      <td>1</td>\n",
       "      <td>0</td>\n",
       "      <td>0</td>\n",
       "      <td>0</td>\n",
       "      <td>0</td>\n",
       "      <td>0</td>\n",
       "    </tr>\n",
       "    <tr>\n",
       "      <th>2</th>\n",
       "      <td>1</td>\n",
       "      <td>1</td>\n",
       "      <td>9</td>\n",
       "      <td>9</td>\n",
       "      <td>9</td>\n",
       "      <td>9</td>\n",
       "      <td>1</td>\n",
       "      <td>9</td>\n",
       "      <td>9</td>\n",
       "      <td>9</td>\n",
       "      <td>...</td>\n",
       "      <td>0</td>\n",
       "      <td>0</td>\n",
       "      <td>1</td>\n",
       "      <td>1</td>\n",
       "      <td>1</td>\n",
       "      <td>0</td>\n",
       "      <td>1</td>\n",
       "      <td>0</td>\n",
       "      <td>1</td>\n",
       "      <td>0</td>\n",
       "    </tr>\n",
       "    <tr>\n",
       "      <th>3</th>\n",
       "      <td>1</td>\n",
       "      <td>1</td>\n",
       "      <td>9</td>\n",
       "      <td>9</td>\n",
       "      <td>9</td>\n",
       "      <td>9</td>\n",
       "      <td>1</td>\n",
       "      <td>9</td>\n",
       "      <td>9</td>\n",
       "      <td>9</td>\n",
       "      <td>...</td>\n",
       "      <td>0</td>\n",
       "      <td>0</td>\n",
       "      <td>0</td>\n",
       "      <td>0</td>\n",
       "      <td>0</td>\n",
       "      <td>0</td>\n",
       "      <td>0</td>\n",
       "      <td>0</td>\n",
       "      <td>0</td>\n",
       "      <td>0</td>\n",
       "    </tr>\n",
       "    <tr>\n",
       "      <th>4</th>\n",
       "      <td>1</td>\n",
       "      <td>1</td>\n",
       "      <td>9</td>\n",
       "      <td>9</td>\n",
       "      <td>9</td>\n",
       "      <td>9</td>\n",
       "      <td>1</td>\n",
       "      <td>9</td>\n",
       "      <td>9</td>\n",
       "      <td>9</td>\n",
       "      <td>...</td>\n",
       "      <td>0</td>\n",
       "      <td>0</td>\n",
       "      <td>1</td>\n",
       "      <td>0</td>\n",
       "      <td>0</td>\n",
       "      <td>0</td>\n",
       "      <td>1</td>\n",
       "      <td>0</td>\n",
       "      <td>0</td>\n",
       "      <td>0</td>\n",
       "    </tr>\n",
       "  </tbody>\n",
       "</table>\n",
       "<p>5 rows × 197 columns</p>\n",
       "</div>"
      ],
      "text/plain": [
       "   recid  boro  uf1_1  uf1_2  uf1_3  uf1_4  uf1_5  uf1_6  uf1_7  uf1_8  \\\n",
       "0      1     1      9      9      9      9      1      9      9      9   \n",
       "1      1     1      9      9      9      9      1      9      9      9   \n",
       "2      1     1      9      9      9      9      1      9      9      9   \n",
       "3      1     1      9      9      9      9      1      9      9      9   \n",
       "4      1     1      9      9      9      9      1      9      9      9   \n",
       "\n",
       "    ...     hflag4  hflag18  uf52h_h  uf52h_a  uf52h_b  uf52h_c  uf52h_d  \\\n",
       "0   ...          0        0        0        0        0        0        0   \n",
       "1   ...          0        0        1        1        1        0        0   \n",
       "2   ...          0        0        1        1        1        0        1   \n",
       "3   ...          0        0        0        0        0        0        0   \n",
       "4   ...          0        0        1        0        0        0        1   \n",
       "\n",
       "   uf52h_e  uf52h_f  uf52h_g  \n",
       "0        0        0        0  \n",
       "1        0        0        0  \n",
       "2        0        1        0  \n",
       "3        0        0        0  \n",
       "4        0        0        0  \n",
       "\n",
       "[5 rows x 197 columns]"
      ]
     },
     "execution_count": 211,
     "metadata": {},
     "output_type": "execute_result"
    }
   ],
   "source": [
    "raw_data.head()"
   ]
  },
  {
   "cell_type": "code",
   "execution_count": 266,
   "metadata": {
    "collapsed": true
   },
   "outputs": [],
   "source": []
  },
  {
   "cell_type": "code",
   "execution_count": 241,
   "metadata": {
    "collapsed": false
   },
   "outputs": [
    {
     "name": "stdout",
     "output_type": "stream",
     "text": [
      "recid\n",
      "boro\n",
      "uf1_1\n",
      "uf1_2\n",
      "uf1_3\n",
      "uf1_4\n",
      "uf1_5\n",
      "uf1_6\n",
      "uf1_7\n",
      "uf1_8\n",
      "uf1_9\n",
      "uf1_10\n",
      "uf1_11\n",
      "uf1_12\n",
      "uf1_13\n",
      "uf1_14\n",
      "uf1_15\n",
      "uf1_16\n",
      "uf1_35\n",
      "uf1_17\n",
      "uf1_18\n",
      "uf1_19\n",
      "uf1_20\n",
      "uf1_21\n",
      "uf1_22\n",
      "sc23\n",
      "sc24\n",
      "sc36\n",
      "sc37\n",
      "sc38\n",
      "hhr2\n",
      "uf43\n",
      "hhr5\n",
      "race1\n",
      "uf2a\n",
      "uf2b\n",
      "sc51\n",
      "sc52\n",
      "sc53\n",
      "sc54\n",
      "sc110\n",
      "sc111\n",
      "sc112\n",
      "sc113\n",
      "sc114\n",
      "sc115\n",
      "sc116\n",
      "sc117\n",
      "sc118\n",
      "sc120\n",
      "sc121\n",
      "uf5\n",
      "sc125\n",
      "uf6\n",
      "sc127\n",
      "uf7\n",
      "sc134\n",
      "uf7a\n",
      "uf9\n",
      "sc140\n",
      "sc141\n",
      "uf8\n",
      "sc143\n",
      "sc144\n",
      "uf10\n",
      "uf48\n",
      "sc147\n",
      "uf11\n",
      "sc149\n",
      "sc173\n",
      "sc171\n",
      "sc150\n",
      "sc151\n",
      "sc152\n",
      "sc153\n",
      "sc154\n",
      "sc155\n",
      "sc156\n",
      "sc157\n",
      "sc158\n",
      "sc159\n",
      "uf12\n",
      "sc161\n",
      "uf13\n",
      "uf14\n",
      "sc164\n",
      "uf15\n",
      "sc166\n",
      "uf16\n",
      "sc174\n",
      "uf64\n",
      "uf17\n",
      "sc181\n",
      "sc541\n",
      "sc184\n",
      "sc542\n",
      "sc543\n",
      "sc544\n",
      "uf17a\n",
      "sc185\n",
      "sc186\n",
      "sc197\n",
      "sc198\n",
      "sc187\n",
      "sc188\n",
      "sc571\n",
      "sc189\n",
      "sc190\n",
      "sc191\n",
      "sc192\n",
      "sc193\n",
      "sc194\n",
      "sc196\n",
      "sc548\n",
      "sc549\n",
      "sc550\n",
      "sc551\n",
      "sc199\n",
      "sc575\n",
      "sc570\n",
      "sc574\n",
      "sc560\n",
      "uf53\n",
      "uf54\n",
      "uf19\n",
      "new_csr\n",
      "rec15\n",
      "sc26\n",
      "uf23\n",
      "rec21\n",
      "sc27\n",
      "rec1\n",
      "uf46\n",
      "rec4\n",
      "rec_race_a\n",
      "rec_race_c\n",
      "rec62\n",
      "rec64\n",
      "rec54\n",
      "rec53\n",
      "tot_per\n",
      "rec28\n",
      "uf26\n",
      "uf28\n",
      "uf27\n",
      "rec39\n",
      "uf42\n",
      "uf42a\n",
      "uf34\n",
      "uf34a\n",
      "uf35\n",
      "uf35a\n",
      "uf36\n",
      "uf36a\n",
      "uf37\n",
      "uf37a\n",
      "uf38\n",
      "uf38a\n",
      "uf39\n",
      "uf39a\n",
      "uf40\n",
      "uf40a\n",
      "cd\n",
      "uf30\n",
      "uf29\n",
      "rec8\n",
      "rec7\n",
      "fw\n",
      "chufw\n",
      "seqno\n",
      "flg_sx1\n",
      "flg_ag1\n",
      "flg_hs1\n",
      "flg_rc1\n",
      "hflag2\n",
      "hflag1\n",
      "hflag13\n",
      "hflag6\n",
      "hflag3\n",
      "hflag14\n",
      "hflag16\n",
      "hflag7\n",
      "hflag9\n",
      "hflag10\n",
      "hflag91\n",
      "hflag11\n",
      "hflag12\n",
      "hflag4\n",
      "hflag18\n",
      "uf52h_h\n",
      "uf52h_a\n",
      "uf52h_b\n",
      "uf52h_c\n",
      "uf52h_d\n",
      "uf52h_e\n",
      "uf52h_f\n",
      "uf52h_g\n"
     ]
    }
   ],
   "source": [
    "#print(raw_data.uf1_1.value_counts())\n",
    "test1 = raw_data['uf1_1']\n",
    "\n",
    "test1.head()\n",
    "\n",
    "test1.replace(9,4)\n",
    "\n",
    "columns_list = raw_data.columns\n",
    "for i in columns_list:\n",
    "    print(i)"
   ]
  },
  {
   "cell_type": "code",
   "execution_count": 265,
   "metadata": {
    "collapsed": false
   },
   "outputs": [
    {
     "name": "stdout",
     "output_type": "stream",
     "text": [
      "8     3262\n",
      "7     3064\n",
      "5     2180\n",
      "6     2033\n",
      "9     2017\n",
      "1      990\n",
      "10     595\n",
      "3      544\n",
      "4      345\n",
      "2      312\n",
      "Name: uf23, dtype: int64\n"
     ]
    }
   ],
   "source": [
    "print(raw_data.uf23.value_counts())\n"
   ]
  },
  {
   "cell_type": "code",
   "execution_count": null,
   "metadata": {
    "collapsed": true
   },
   "outputs": [],
   "source": []
  }
 ],
 "metadata": {
  "anaconda-cloud": {},
  "kernelspec": {
   "display_name": "Python [python3]",
   "language": "python",
   "name": "Python [python3]"
  },
  "language_info": {
   "codemirror_mode": {
    "name": "ipython",
    "version": 3
   },
   "file_extension": ".py",
   "mimetype": "text/x-python",
   "name": "python",
   "nbconvert_exporter": "python",
   "pygments_lexer": "ipython3",
   "version": "3.5.2"
  }
 },
 "nbformat": 4,
 "nbformat_minor": 0
}
